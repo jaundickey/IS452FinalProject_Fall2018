{
 "cells": [
  {
   "cell_type": "markdown",
   "metadata": {},
   "source": [
    "# Connecting to the Gmail Server And Obtaining Inbox Index Information"
   ]
  },
  {
   "cell_type": "markdown",
   "metadata": {},
   "source": [
    "Step 1: Importing the email connection, date/time, collections, and csv modules\n",
    "\n",
    "    - email = library for managing email messages\n",
    "    - imaplib = defines three classes, IMAP4, IMAP4_SSL and IMAP4_stream, which encapsulate a connection to an IMAP4 server\n",
    "    - datetime = module supplies classes for manipulating dates and times in both simple and complex ways\n",
    "    - collections = This module implements specialized container datatype (particularly the counter object)\n",
    "    - csv = the most common import and export format for spreadsheets and databases"
   ]
  },
  {
   "cell_type": "code",
   "execution_count": null,
   "metadata": {},
   "outputs": [],
   "source": [
    "import imaplib\n",
    "import email\n",
    "from datetime import datetime, timedelta\n",
    "from collections import Counter\n",
    "import csv"
   ]
  },
  {
   "cell_type": "markdown",
   "metadata": {},
   "source": [
    "Step 2: Defining basic variabless for the domain, username, password, server, and port\n",
    "\n",
    "The domain is statically specified as \"gmail.com.\" The FROM_EMAIL and FROM_PWD variables capture the user's Gmail username and password. The SMTP_SERVER and SMTP_PORT variables specify the server the program is ping and at what address (or port)."
   ]
  },
  {
   "cell_type": "code",
   "execution_count": null,
   "metadata": {},
   "outputs": [],
   "source": [
    "ORG_EMAIL   = \"@gmail.com\"\n",
    "FROM_EMAIL  = str(input(\"What is your Gmail username?\")) + ORG_EMAIL\n",
    "FROM_PWD    = str(input(\"What is your Gmail password?\"))\n",
    "SMTP_SERVER = \"imap.gmail.com\"\n",
    "SMTP_PORT   = 993"
   ]
  },
  {
   "cell_type": "markdown",
   "metadata": {},
   "source": [
    "Step 3: Connecting to server, logging in, and selecting the \"inbox\"\n",
    "\n",
    "The variable mail is created to act as an email connection object in order to leverage the varying methods and functions from the email module. The methods point the object to the previously defined server and to the \"inbox\" folder."
   ]
  },
  {
   "cell_type": "code",
   "execution_count": null,
   "metadata": {},
   "outputs": [],
   "source": [
    "mail = imaplib.IMAP4_SSL(SMTP_SERVER)\n",
    "mail.login(FROM_EMAIL,FROM_PWD)\n",
    "mail.select('inbox')"
   ]
  },
  {
   "cell_type": "markdown",
   "metadata": {},
   "source": [
    "Step 4: Defining variables for subcomponents in the inbox folder of the \"mail\" object\n",
    "\n",
    "Once the connection object has been pointed to the inbox, two new variables are defined to capture information about index of emails in the inbox folder. The data variable contains a list of byte type objects that must be split in order parse the index number (ID) of the emails. "
   ]
  },
  {
   "cell_type": "code",
   "execution_count": null,
   "metadata": {},
   "outputs": [],
   "source": [
    "type, data = mail.search(None, 'ALL')\n",
    "mail_ids = data[0]\n",
    "id_list = mail_ids.split()\n",
    "first_email_id = int(id_list[0])\n",
    "latest_email_id = int(id_list[-1])"
   ]
  },
  {
   "cell_type": "markdown",
   "metadata": {},
   "source": [
    "# Analyzing Inbox Index Information "
   ]
  },
  {
   "cell_type": "markdown",
   "metadata": {},
   "source": [
    "Step 1: Defining variables for the number of emails and days, list of senders, and csv row population\n",
    "\n",
    "Two variables are created to obtain input from the user is leveraged to capture the number of latest emails to be analyzed and how many days to go back. Additional variables are created as empty lists to store lists of email senders and the creation of a row of information to be written to the csv file. A final variable is used to process a time delta from the current time to the days entered by the user."
   ]
  },
  {
   "cell_type": "code",
   "execution_count": null,
   "metadata": {},
   "outputs": [],
   "source": [
    "num_of_emails = int(input(\"How many of the latest emails should be analyzed?\"))\n",
    "num_of_days = int(input(\"How many days back should be analyzed?\"))\n",
    "List_of_Senders = []\n",
    "allrows = []\n",
    "date_N_days_ago = datetime.now(tz=None) - timedelta(days=num_of_days)"
   ]
  },
  {
   "cell_type": "markdown",
   "metadata": {},
   "source": [
    "Step 2: Creating a \"for\" loop to iterate over emails according to number and days to be analyzed\n",
    "\n",
    "A for loop is used to iterate over the emails in a range created from the delta of the latest email ID and the number to be analyzed provided by the user. The email connection object fetch method is then used to retreive each email based on its ID iterable in the for loop statement and it is then decoded using utf-8 codec and converted to an email object from a string. \n",
    "\n",
    "Decision structures evaluate the date formatting and strip it accordingly removing the UTC offset and/or timezone information and covert it to a date/time data type. An additional decision structure then evaluates the date of the email against the timeframe calculated in the timedelta variable (date_N_days_ago) and then proceeds to append the sender information to the previously created empty list and creates a row list during each loop pass that captures Date, Sender, and Subject. Each row is then appended to the previously created row list to support creating the csv file. "
   ]
  },
  {
   "cell_type": "code",
   "execution_count": null,
   "metadata": {},
   "outputs": [],
   "source": [
    "for i in range((latest_email_id-num_of_emails),latest_email_id):\n",
    "    result, mail_data = mail.fetch(id_list[i],'(RFC822)')\n",
    "    raw_email = mail_data[0][1].decode(\"utf-8\")\n",
    "    email_message = email.message_from_string(raw_email)\n",
    "    if email_message['Date'][0:3] in [\"Sun\", \"Mon\", \"Tue\", \"Wed\", \"Thu\", \"Fri\", \"Sat\", \"Sun\"]:\n",
    "        Email_Date = email_message['Date'][0:25].strip()\n",
    "        Formatted_Date= datetime.strptime(Email_Date, '%a, %d %b %Y %X')\n",
    "    else:\n",
    "        Email_Date = email_message['Date'][0:20].strip()\n",
    "        Formatted_Date= datetime.strptime(Email_Date, '%d %b %Y %X')\n",
    "    if Formatted_Date >= date_N_days_ago:\n",
    "        row = []\n",
    "        Date = Formatted_Date\n",
    "        Sender = email_message['From']\n",
    "        Subject = email_message['Subject']\n",
    "        row.append(Date)\n",
    "        row.append(Sender)\n",
    "        row.append(Subject)\n",
    "        allrows.append(row)\n",
    "        List_of_Senders.append(email_message['From'])"
   ]
  },
  {
   "cell_type": "markdown",
   "metadata": {},
   "source": [
    "# Retruning Analysis Results in Summary Display and via a CSV File"
   ]
  },
  {
   "cell_type": "markdown",
   "metadata": {},
   "source": [
    "Step 1: Counting senders and displaying summary results\n",
    "\n",
    "The counter function was used to count the list of senders created in the previous for loop iterations and the top ten were stored in a counted variable. Print statements are used to titele the summary, provide a total number of emails in the inbox and the analysis timeframe using the previous variables, and introduce the top ten sender list. To print the sender list a for loop was created using the length of the sender list and the string replace method to clean the sender of commas parenthesis and quotes."
   ]
  },
  {
   "cell_type": "code",
   "execution_count": null,
   "metadata": {},
   "outputs": [],
   "source": [
    "counted = Counter(List_of_Senders)\n",
    "Top10Senders = counted.most_common(10)\n",
    "\n",
    "print(\"\\n\",\"\\n\",\"Analysis Results:\",\"\\n\")\n",
    "print(\"The total number of emails in your inbox is:\",latest_email_id,\"\\n\")\n",
    "print(\"The timeframe specified is:\", date_N_days_ago,\"-\",datetime.now(tz=None),\"\\n\")\n",
    "print(\"The number of emails analyzed within the specified timeframe is:\",len(List_of_Senders),\"\\n\")\n",
    "print(\"The top ten senders followed by volumes of emails sent are as follows:\",\"\\n\")\n",
    "\n",
    "for i in range(len(Top10Senders)):\n",
    "    print(i+1,\". \",Top10Senders[i][0].replace(\"(\",\"\").replace(\"'\",\"\").replace(\")\",\"\").replace(\"\\\"\",\"\"),\" : \",Top10Senders[i][1], sep='')"
   ]
  },
  {
   "cell_type": "markdown",
   "metadata": {},
   "source": [
    "Step 2: Creating a CSV file with date, sender, and subject details\n",
    "\n",
    "A list variable is created to act as the first row of headers in the csv structure. The with statement is used to create a csv file to run subsequent csvout statement populating each of the following row structures with the lists previously created in the analysis iteration loop."
   ]
  },
  {
   "cell_type": "code",
   "execution_count": null,
   "metadata": {},
   "outputs": [],
   "source": [
    "headers = ['Date', 'Sender', 'Subject']\n",
    "with open('EmailAnalysisResults.csv', 'w', newline='') as outfile:\n",
    "    csvout = csv.writer(outfile)\n",
    "    csvout.writerow(headers)\n",
    "    csvout.writerows(allrows)"
   ]
  }
 ],
 "metadata": {
  "kernelspec": {
   "display_name": "Python 3",
   "language": "python",
   "name": "python3"
  },
  "language_info": {
   "codemirror_mode": {
    "name": "ipython",
    "version": 3
   },
   "file_extension": ".py",
   "mimetype": "text/x-python",
   "name": "python",
   "nbconvert_exporter": "python",
   "pygments_lexer": "ipython3",
   "version": "3.6.5"
  }
 },
 "nbformat": 4,
 "nbformat_minor": 2
}
